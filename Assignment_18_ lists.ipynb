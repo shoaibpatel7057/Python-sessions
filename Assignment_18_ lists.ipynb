{
 "cells": [
  {
   "cell_type": "code",
   "execution_count": 3,
   "id": "3f8033c1-a046-4d95-81ed-6146ae9fb2e0",
   "metadata": {},
   "outputs": [
    {
     "name": "stdin",
     "output_type": "stream",
     "text": [
      "Enter numbers:  2 3 4 5 6 7 8 \n"
     ]
    },
    {
     "name": "stdout",
     "output_type": "stream",
     "text": [
      "Total items: 7\n",
      "Last item: 8\n",
      "Reversed list: [8, 7, 6, 5, 4, 3, 2]\n",
      "Yes\n",
      "Count of 5s: 1\n",
      "Sorted modified list: [3, 4, 5, 6, 7]\n",
      "Numbers less than 5: 3\n"
     ]
    }
   ],
   "source": [
    "# 1. List Operations with User Input\n",
    "# Write a program that asks the user to enter a list of integers. Perform the following tasks:\n",
    "# (a) Print the total number of items in the list.\n",
    "# (b) Print the last item in the list.\n",
    "# (c) Print the list in reverse order.\n",
    "# (d) Print &quot;Yes&quot; if the list contains a 5 and &quot;No&quot; otherwise.\n",
    "# (e) Print the number of fives in the list.\n",
    "# (f) Remove the first and last items from the list, sort the remaining items, and print the result.\n",
    "# (g) Print how many integers in the list are less than 5.\n",
    "\n",
    "\n",
    "\n",
    "numbers = list(map(int, input(\"Enter numbers: \").split()))\n",
    "\n",
    "print(\"Total items:\", len(numbers))  \n",
    "print(\"Last item:\", numbers[-1] if numbers else \"List is empty\")  \n",
    "print(\"Reversed list:\", numbers[::-1])  \n",
    "print(\"Yes\" if 5 in numbers else \"No\")  \n",
    "print(\"Count of 5s:\", numbers.count(5))  \n",
    "\n",
    "if len(numbers) > 2:\n",
    "    print(\"Sorted modified list:\", sorted(numbers[1:-1]))\n",
    "else:\n",
    "    print(\"Not enough elements for modification.\")\n",
    "print(\"Numbers less than 5:\", sum(1 for num in numbers if num < 5))\n",
    "\n"
   ]
  },
  {
   "cell_type": "code",
   "execution_count": 5,
   "id": "9bf00526-d806-488d-8623-4657dc386bb6",
   "metadata": {},
   "outputs": [
    {
     "name": "stdout",
     "output_type": "stream",
     "text": [
      "List: [21, 20, 79, 75, 17, 13, 68, 11, 93, 12, 59, 20, 27, 52, 64, 29, 19, 12, 91, 83]\n",
      "Average: 43.25\n",
      "Largest: 93 Smallest: 11\n",
      "Second Largest: 91 Second Smallest: 12\n",
      "Even count: 7\n"
     ]
    }
   ],
   "source": [
    "# 2. Random Number List Analysis\n",
    "# Write a program that generates a list of 20 random numbers between 1 and 100. Perform the\n",
    "# following tasks:\n",
    "# (a) Print the list.\n",
    "# (b) Print the average of the elements in the list.\n",
    "# (c) Print the largest and smallest values in the list.\n",
    "# (d) Print the second largest and second smallest entries in the list.\n",
    "# (e) Print how many even numbers are in the list.\n",
    "\n",
    "import random\n",
    "\n",
    "numbers = [random.randint(1, 100) for i in range(20)]\n",
    "print(\"List:\", numbers)\n",
    "print(\"Average:\", sum(numbers) / 20)\n",
    "print(\"Largest:\", max(numbers), \"Smallest:\", min(numbers))\n",
    "\n",
    "unique = sorted(set(numbers))\n",
    "if len(unique) > 1: print(\"Second Largest:\", unique[-2], \"Second Smallest:\", unique[1])\n",
    "\n",
    "print(\"Even count:\", sum(1 for x in numbers if x % 2 == 0))\n"
   ]
  },
  {
   "cell_type": "code",
   "execution_count": 6,
   "id": "49302863-c153-4b85-b070-e0edf1ada1df",
   "metadata": {},
   "outputs": [
    {
     "name": "stdout",
     "output_type": "stream",
     "text": [
      "[4, 5, 6, 25, 10, 17, 4, 5, 6, 10, 17]\n"
     ]
    }
   ],
   "source": [
    "# 3. Modify and Transform a Predefined List\n",
    "# Start with the list [8, 9, 10]. Perform the following tasks:\n",
    "# (a) Set the second entry (index 1) to 17.\n",
    "# (b) Add 4, 5, and 6 to the end of the list.\n",
    "# (c) Remove the first entry from the list.\n",
    "# (d) Sort the list.\n",
    "# (e) Double the list.\n",
    "# (f) Insert 25 at index 3.\n",
    "# The final list should equal [4, 5, 6, 25, 10, 17, 4, 5, 6, 10, 17].\n",
    "\n",
    "\n",
    "\n",
    "lst = [8, 9, 10]\n",
    "\n",
    "lst[1] = 17\n",
    "\n",
    "lst += [4, 5, 6]\n",
    "\n",
    "lst.pop(0)\n",
    "\n",
    "lst.sort()\n",
    "\n",
    "lst *= 2\n",
    "\n",
    "lst.insert(3, 25)\n",
    "\n",
    "print(lst)\n"
   ]
  },
  {
   "cell_type": "code",
   "execution_count": 8,
   "id": "ce26a1b8-117b-4b2e-8696-be4dd9d1eaa3",
   "metadata": {},
   "outputs": [
    {
     "name": "stdin",
     "output_type": "stream",
     "text": [
      "Enter numbers (1-12):  11\n"
     ]
    },
    {
     "name": "stdout",
     "output_type": "stream",
     "text": [
      "Updated List: [10]\n"
     ]
    }
   ],
   "source": [
    "# 4. Replace Numbers Greater than 10\n",
    "# Ask the user to enter a list containing numbers between 1 and 12. Replace all entries in the list that\n",
    "# are greater than 10 with 10.\n",
    "\n",
    "\n",
    "numbers = list(map(int, input(\"Enter numbers (1-12): \").split()))\n",
    "for i in range(len(numbers)):\n",
    "    if numbers[i] > 10:\n",
    "        numbers[i] = 10\n",
    "\n",
    "print(\"Updated List:\", numbers)\n",
    "\n"
   ]
  },
  {
   "cell_type": "code",
   "execution_count": 3,
   "id": "97f5b128-9098-4613-be0f-935bb30481f3",
   "metadata": {},
   "outputs": [
    {
     "name": "stdin",
     "output_type": "stream",
     "text": [
      "Enter strings:  Apple Banana Cherry\n"
     ]
    },
    {
     "name": "stdout",
     "output_type": "stream",
     "text": [
      "new List: ['pple', 'anana', 'herry']\n"
     ]
    }
   ],
   "source": [
    "# 5. Modify Strings in a List\n",
    "# Ask the user to enter a list of strings. Create a new list that consists of those strings with their first\n",
    "# characters removed.\n",
    "\n",
    "strings = input(\"Enter strings: \").split()\n",
    "new_strings = []\n",
    "for s in strings:\n",
    "    new_strings.append(s[1:])\n",
    "    \n",
    "print(\"new List:\", new_strings)\n"
   ]
  },
  {
   "cell_type": "code",
   "execution_count": 5,
   "id": "a1e9d557-061c-4645-94a5-7d461a57da51",
   "metadata": {},
   "outputs": [
    {
     "name": "stdout",
     "output_type": "stream",
     "text": [
      "List a: [0, 1, 2, 3, 4, 5, 6, 7, 8, 9, 10, 11, 12, 13, 14, 15, 16, 17, 18, 19, 20, 21, 22, 23, 24, 25, 26, 27, 28, 29, 30, 31, 32, 33, 34, 35, 36, 37, 38, 39, 40, 41, 42, 43, 44, 45, 46, 47, 48, 49]\n",
      "List b: [1, 4, 9, 16, 25, 36, 49, 64, 81, 100, 121, 144, 169, 196, 225, 256, 289, 324, 361, 400, 441, 484, 529, 576, 625, 676, 729, 784, 841, 900, 961, 1024, 1089, 1156, 1225, 1296, 1369, 1444, 1521, 1600, 1681, 1764, 1849, 1936, 2025, 2116, 2209, 2304, 2401, 2500]\n",
      "List c: ['a', 'bb', 'ccc', 'dddd', 'eeeee', 'ffffff', 'ggggggg', 'hhhhhhhh', 'iiiiiiiii', 'jjjjjjjjjj', 'kkkkkkkkkkk', 'llllllllllll', 'mmmmmmmmmmmmm', 'nnnnnnnnnnnnnn', 'ooooooooooooooo', 'pppppppppppppppp', 'qqqqqqqqqqqqqqqqq', 'rrrrrrrrrrrrrrrrrr', 'sssssssssssssssssss', 'tttttttttttttttttttt', 'uuuuuuuuuuuuuuuuuuuuu', 'vvvvvvvvvvvvvvvvvvvvvv', 'wwwwwwwwwwwwwwwwwwwwwww', 'xxxxxxxxxxxxxxxxxxxxxxxx', 'yyyyyyyyyyyyyyyyyyyyyyyyy', 'zzzzzzzzzzzzzzzzzzzzzzzzzz']\n"
     ]
    }
   ],
   "source": [
    "# 6. Create Lists Using Loops\n",
    "# Using a for loop, create the following lists:\n",
    "# (a) A list consisting of the integers 0 through 49.\n",
    "# (b) A list containing the squares of the integers 1 through 50.\n",
    "# (c) The list [&#39;a&#39;, &#39;bb&#39;, &#39;ccc&#39;, &#39;dddd&#39;, ...] that ends with 26 copies of the letter z.\n",
    "\n",
    "list_a = []\n",
    "for i in range(50):\n",
    "    list_a.append(i)\n",
    "\n",
    "list_b = []\n",
    "for i in range(1, 51):\n",
    "    list_b.append(i**2)\n",
    "\n",
    "list_c = []\n",
    "for i in range(26):\n",
    "    list_c.append(chr(97 + i) * (i + 1))\n",
    "\n",
    "print(\"List a:\", list_a)\n",
    "print(\"List b:\", list_b)\n",
    "print(\"List c:\", list_c)\n"
   ]
  },
  {
   "cell_type": "code",
   "execution_count": 6,
   "id": "c1c2b24a-328f-4b40-91c4-3789d3ebcf9a",
   "metadata": {},
   "outputs": [
    {
     "name": "stdout",
     "output_type": "stream",
     "text": [
      "List N: [4, 6, 13]\n"
     ]
    }
   ],
   "source": [
    "# 7. Element-wise Sum of Two Lists\n",
    "# Write a program that takes any two lists L and M of the same size and adds their elements together\n",
    "# to form a new list N whose elements are the sums of the corresponding elements in L and M.\n",
    "# For instance, if L = [3, 1, 4] and M = [1, 5, 9], then N should equal [4, 6, 13].\n",
    "\n",
    "L = [3, 1, 4]\n",
    "M = [1, 5, 9]\n",
    "N = [L[i] + M[i] for i in range(len(L))]\n",
    "print(\"List N:\", N)\n"
   ]
  },
  {
   "cell_type": "code",
   "execution_count": 7,
   "id": "b9d61038-c374-4444-b40a-619c70e32f3f",
   "metadata": {},
   "outputs": [
    {
     "name": "stdin",
     "output_type": "stream",
     "text": [
      "Enter an integer:  33\n"
     ]
    },
    {
     "name": "stdout",
     "output_type": "stream",
     "text": [
      "Factors: [1, 3, 11, 33]\n"
     ]
    }
   ],
   "source": [
    "# 8. List of Factors\n",
    "# Write a program that asks the user for an integer and creates a list that consists of the factors of that\n",
    "# integer.\n",
    "\n",
    "num = int(input(\"Enter an integer: \"))\n",
    "factors = []\n",
    "for i in range(1, num + 1):\n",
    "    if num % i == 0:\n",
    "        factors.append(i)\n",
    "\n",
    "print(\"Factors:\", factors)\n"
   ]
  },
  {
   "cell_type": "code",
   "execution_count": 8,
   "id": "2c28f9ce-9f1d-407f-86a9-157092c4031d",
   "metadata": {},
   "outputs": [
    {
     "name": "stdout",
     "output_type": "stream",
     "text": [
      "Rotated List: [5, 1, 2, 3, 4]\n"
     ]
    }
   ],
   "source": [
    "# 10. Rotate a List\n",
    "# Write a program that rotates the elements of a list so that the element at the first index moves to\n",
    "# the second index, the element in the second index moves to the third index, and the element in the\n",
    "# last index moves to the first index.\n",
    "\n",
    "lst = [1, 2, 3, 4, 5]\n",
    "lst = [lst[-1]] + lst[:-1]\n",
    "\n",
    "print(\"Rotated List:\", lst)\n"
   ]
  },
  {
   "cell_type": "code",
   "execution_count": 9,
   "id": "850ae7d0-70e6-43e3-8a6d-2edf3cbb7941",
   "metadata": {},
   "outputs": [
    {
     "name": "stdout",
     "output_type": "stream",
     "text": [
      "Patterned List: [1, 0, 1, 0, 0, 1, 0, 0, 0, 1, 0, 0, 0, 0, 1, 0, 0, 0, 0, 0, 1, 0, 0, 0, 0, 0, 0, 1, 0, 0, 0, 0, 0, 0, 0, 1, 0, 0, 0, 0, 0, 0, 0, 0, 1, 0, 0, 0, 0, 0, 0, 0, 0, 0, 1, 0, 0, 0, 0, 0, 0, 0, 0, 0, 0, 1, 0, 0, 0, 0, 0, 0, 0, 0, 0, 0, 0, 1, 0, 0, 0, 0, 0, 0, 0, 0, 0, 0, 0, 0, 1, 0, 0, 0, 0, 0, 0, 0, 0, 0, 0, 0, 0, 0, 1, 0, 0, 0, 0, 0, 0, 0, 0, 0, 0, 0, 0, 0, 0, 1, 0, 0, 0, 0, 0, 0, 0, 0, 0, 0, 0, 0, 0, 0, 0, 1, 0, 0, 0, 0, 0, 0, 0, 0, 0, 0]\n"
     ]
    }
   ],
   "source": [
    "# 11. Patterned List of Ones and Zeroes\n",
    "# Using a for loop, create the list [1, 1, 0, 1, 0, 0, 1, 0, 0, 0, 1, 0, 0, 0, 0, 1, ...] that ends with 10 zeroes\n",
    "# between the last two ones.\n",
    "\n",
    "lst = []\n",
    "\n",
    "for i in range(15):  # We need 15 ones in total\n",
    "    lst.append(1)\n",
    "    lst.extend([0] * (i + 1))\n",
    "\n",
    "lst.append(1)\n",
    "lst.extend([0] * 10)\n",
    "\n",
    "print(\"Patterned List:\", lst)\n"
   ]
  },
  {
   "cell_type": "code",
   "execution_count": 11,
   "id": "5d605e57-b22d-47c4-a4d5-0d6c24000e5b",
   "metadata": {},
   "outputs": [
    {
     "name": "stdout",
     "output_type": "stream",
     "text": [
      "Longest run of zeroes: 5\n"
     ]
    }
   ],
   "source": [
    "# 12. Longest Run of Zeroes\n",
    "# Write a program that generates 100 random integers (either 0 or 1). Find the longest run of zeroes,\n",
    "# which is the largest number of consecutive zeroes in the list.\n",
    "\n",
    "import random\n",
    "lst = [random.randint(0, 1) for _ in range(100)]\n",
    "max_run = 0\n",
    "current_run = 0\n",
    "\n",
    "for num in lst:\n",
    "    if num == 0:\n",
    "        current_run += 1\n",
    "        if current_run > max_run:\n",
    "            max_run = current_run\n",
    "    else:\n",
    "        current_run = 0\n",
    "print(\"Longest run of zeroes:\", max_run)\n"
   ]
  },
  {
   "cell_type": "code",
   "execution_count": 12,
   "id": "a1b51dc4-4af4-4a37-8431-34c333f61a31",
   "metadata": {},
   "outputs": [
    {
     "name": "stdout",
     "output_type": "stream",
     "text": [
      "List after removing duplicates: [0, 1, 2, 3, 4]\n"
     ]
    }
   ],
   "source": [
    "# 13. Remove Duplicates\n",
    "\n",
    "# Write a program that removes any repeated items from a list so that each item appears at most\n",
    "# once. For instance, the list [1, 1, 2, 3, 4, 3, 0, 0] would become [1, 2, 3, 4, 0].\n",
    "\n",
    "lst = [1, 1, 2, 3, 4, 3, 0, 0]\n",
    "\n",
    "lst = list(set(lst))\n",
    "\n",
    "print(\"List after removing duplicates:\", lst)\n"
   ]
  },
  {
   "cell_type": "code",
   "execution_count": 13,
   "id": "35167c39-7baf-4875-ab24-05ddd6b5d7e9",
   "metadata": {},
   "outputs": [
    {
     "name": "stdin",
     "output_type": "stream",
     "text": [
      "Enter length in feet:  20\n",
      "Enter 1 for Inches, 2 for Yards, 3 for Miles, 4 for Millimeters, 5 for Centimeters, 6 for Meters, 7 for Kilometers:  1\n"
     ]
    },
    {
     "name": "stdout",
     "output_type": "stream",
     "text": [
      "20.0 feet = 240.00 Inches\n"
     ]
    }
   ],
   "source": [
    "# 14. Unit Conversion\n",
    "# Write a program that asks the user to enter a length in feet. Provide the user with options to convert\n",
    "# from feet to:\n",
    "# 1. Inches\n",
    "# 2. Yards\n",
    "# 3. Miles\n",
    "# 4. Millimeters\n",
    "# 5. Centimeters\n",
    "# 6. Meters\n",
    "# 7. Kilometers\n",
    "# Use lists to simplify the conversion.\n",
    "\n",
    "factors = [12, 1/3, 1/5280, 304.8, 30.48, 0.3048, 0.0003048]\n",
    "units = ['Inches', 'Yards', 'Miles', 'Millimeters', 'Centimeters', 'Meters', 'Kilometers']\n",
    "feet = float(input(\"Enter length in feet: \"))\n",
    "choice = int(input(\"Enter 1 for Inches, 2 for Yards, 3 for Miles, 4 for Millimeters, 5 for Centimeters, 6 for Meters, 7 for Kilometers: \"))\n",
    "\n",
    "if 1 <= choice <= 7:\n",
    "    print(f\"{feet} feet = {feet * factors[choice - 1]:.2f} {units[choice - 1]}\")\n",
    "else:\n",
    "    print(\"Invalid choice!\")\n"
   ]
  },
  {
   "cell_type": "code",
   "execution_count": null,
   "id": "9066fe14-e624-4057-a839-35e6813618ae",
   "metadata": {},
   "outputs": [],
   "source": []
  }
 ],
 "metadata": {
  "kernelspec": {
   "display_name": "Python 3 (ipykernel)",
   "language": "python",
   "name": "python3"
  },
  "language_info": {
   "codemirror_mode": {
    "name": "ipython",
    "version": 3
   },
   "file_extension": ".py",
   "mimetype": "text/x-python",
   "name": "python",
   "nbconvert_exporter": "python",
   "pygments_lexer": "ipython3",
   "version": "3.12.7"
  }
 },
 "nbformat": 4,
 "nbformat_minor": 5
}
