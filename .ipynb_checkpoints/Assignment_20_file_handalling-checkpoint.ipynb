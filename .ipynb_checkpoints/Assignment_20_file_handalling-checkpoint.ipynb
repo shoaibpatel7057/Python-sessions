{
 "cells": [
  {
   "cell_type": "markdown",
   "id": "f7fc803c-08fa-4d0d-8da8-d7d3e350fa80",
   "metadata": {},
   "source": [
    "- yes "
   ]
  },
  {
   "cell_type": "code",
   "execution_count": 2,
   "id": "13b2e69f-4976-4849-859b-bd99de2aeb2a",
   "metadata": {},
   "outputs": [
    {
     "data": {
      "text/plain": [
       "17"
      ]
     },
     "execution_count": 2,
     "metadata": {},
     "output_type": "execute_result"
    }
   ],
   "source": [
    "file_name='dummy.txt'\n",
    "file=open(file_name,mode='w')\n",
    "file.write('hello how are you')"
   ]
  },
  {
   "cell_type": "code",
   "execution_count": null,
   "id": "5e13394d-51ea-41b8-b9ce-62934c1bfe55",
   "metadata": {},
   "outputs": [],
   "source": [
    "file_location=r'mbox-short.txt'\n",
    "file=open(file_location,\n",
    "         mode='r',\n",
    "         encoding='utf-8-sig')\n",
    "data=file.read()\n",
    "print(data)"
   ]
  },
  {
   "cell_type": "code",
   "execution_count": 3,
   "id": "4d55ab9f-ca3b-4932-a85e-75f746ed2c64",
   "metadata": {},
   "outputs": [
    {
     "name": "stdout",
     "output_type": "stream",
     "text": [
      "[Errno 17] File exists: 'dummy3.txt'\n"
     ]
    },
    {
     "data": {
      "text/plain": [
       "17"
      ]
     },
     "execution_count": 3,
     "metadata": {},
     "output_type": "execute_result"
    }
   ],
   "source": [
    "file_name='dummy3.txt'\n",
    "try:\n",
    "    \n",
    "    file=open(file_name,mode='x')\n",
    "except Exception as e:\n",
    "    print(e)\n",
    "file=open(file_name,mode='w')\n",
    "file.write('hello how are you')"
   ]
  },
  {
   "cell_type": "code",
   "execution_count": 7,
   "id": "912d7999-0177-4e90-adde-f8a80dd4f8e8",
   "metadata": {},
   "outputs": [
    {
     "data": {
      "text/plain": [
       "17"
      ]
     },
     "execution_count": 7,
     "metadata": {},
     "output_type": "execute_result"
    }
   ],
   "source": [
    "# 'a' open for writing, appending to the end of the file if it exists\n",
    "\n",
    "file_name='dummy4.txt'\n",
    "file=open(file_name,mode='a')\n",
    "file.write('hello how are you')"
   ]
  },
  {
   "cell_type": "code",
   "execution_count": 10,
   "id": "f0067240-cf4c-42c6-9631-69e188840f55",
   "metadata": {},
   "outputs": [],
   "source": [
    "# 'b' binary mode\n",
    "\n",
    "file_name = 'dummy5.txt'\n",
    "file = open(file_name, mode='wb')  \n",
    "file.write(b'hello how are you')  \n",
    "file.close()"
   ]
  },
  {
   "cell_type": "code",
   "execution_count": 14,
   "id": "ecf0fd29-1907-4e58-a685-b7918a5ed4ee",
   "metadata": {},
   "outputs": [
    {
     "data": {
      "text/plain": [
       "17"
      ]
     },
     "execution_count": 14,
     "metadata": {},
     "output_type": "execute_result"
    }
   ],
   "source": [
    "# 't' text mode (default)\n",
    "\n",
    "file_name='dummy6.txt'\n",
    "file=open(file_name,mode='wt')\n",
    "file.write('hello how are you')  \n"
   ]
  },
  {
   "cell_type": "code",
   "execution_count": 18,
   "id": "4c2db4bc-953f-42a0-9fa0-0f3c4a136496",
   "metadata": {},
   "outputs": [
    {
     "data": {
      "text/plain": [
       "17"
      ]
     },
     "execution_count": 18,
     "metadata": {},
     "output_type": "execute_result"
    }
   ],
   "source": [
    "# '+' open a disk file for updating (reading and writing)\n",
    "\n",
    "file_name='dummy7.txt'\n",
    "file=open(file_name,mode='w+')\n",
    "file.write('hello how are you')  \n"
   ]
  },
  {
   "cell_type": "code",
   "execution_count": null,
   "id": "b0c56c7a-a084-4aa0-bd8a-fea62322aecb",
   "metadata": {},
   "outputs": [],
   "source": []
  }
 ],
 "metadata": {
  "kernelspec": {
   "display_name": "Python 3 (ipykernel)",
   "language": "python",
   "name": "python3"
  },
  "language_info": {
   "codemirror_mode": {
    "name": "ipython",
    "version": 3
   },
   "file_extension": ".py",
   "mimetype": "text/x-python",
   "name": "python",
   "nbconvert_exporter": "python",
   "pygments_lexer": "ipython3",
   "version": "3.12.7"
  }
 },
 "nbformat": 4,
 "nbformat_minor": 5
}
